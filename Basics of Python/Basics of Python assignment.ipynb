{
 "cells": [
  {
   "cell_type": "code",
   "execution_count": 1,
   "id": "97a9f490-a9af-4e62-bfbf-b40e6bb20fd9",
   "metadata": {},
   "outputs": [],
   "source": [
    "#Exercise 1: Prime Numbers\n",
    "#Write a Python program that checks whether a given number is prime or not. A prime number is a natural number greater than 1 that has no positive divisors other than 1 and itself."
   ]
  },
  {
   "cell_type": "code",
   "execution_count": 5,
   "id": "0876a327-9754-4014-abed-e339a5bd22cc",
   "metadata": {},
   "outputs": [
    {
     "name": "stdin",
     "output_type": "stream",
     "text": [
      "Enter Number: 4\n"
     ]
    },
    {
     "name": "stdout",
     "output_type": "stream",
     "text": [
      "4 is not a prime number\n"
     ]
    }
   ],
   "source": [
    "Num = int(input(\"Enter Number:\")) #take number as user input\n",
    "if Num > 1: #if the number greater than 1 following loop will excecute\n",
    "    for i in range(2,Num//2+1):#take range from 2 to off of the given number\n",
    "        if Num%i==0:#check the number is divisible by any number or not\n",
    "            print(Num,\"is not a prime number\")\n",
    "            break#if the condition satisfy then the loop will close\n",
    "        else:\n",
    "            print(Num,\"is a prime number\")#else this condition will execute\n",
    "            break\n",
    "else:\n",
    "    print(Num,\"is not a prime number\")#if given number is less than 1 then it will this statement"
   ]
  },
  {
   "cell_type": "code",
   "execution_count": 7,
   "id": "4fc8c2fb-f2ba-4124-91cc-03c773c59607",
   "metadata": {},
   "outputs": [],
   "source": [
    "#Exercise 2: Product of Random Numbers\n",
    "#Develop a Python program that generates two random numbers and asks the user to enter the product of these numbers. The program should then check if the user's answer is correct and display an appropriate message."
   ]
  },
  {
   "cell_type": "code",
   "execution_count": 13,
   "id": "97bb1e85-a850-4810-bbc8-7f41cbb42316",
   "metadata": {},
   "outputs": [
    {
     "name": "stdin",
     "output_type": "stream",
     "text": [
      "What is the product of 5 and 2?  11\n"
     ]
    },
    {
     "name": "stdout",
     "output_type": "stream",
     "text": [
      "Incorrect. The correct answer is 10.\n"
     ]
    }
   ],
   "source": [
    "import random\n",
    "\n",
    "# Generate two random numbers\n",
    "num1 = random.randint(1, 10)\n",
    "num2 = random.randint(1, 10)\n",
    "\n",
    "# Calculate the product of the two numbers\n",
    "product = num1 * num2\n",
    "\n",
    "# Prompt the user to enter the product\n",
    "user_input = int(input(f\"What is the product of {num1} and {num2}? \"))\n",
    "\n",
    "# Check if the user's answer is correct and display an appropriate message\n",
    "if user_input == product:\n",
    "    print(\"Correct! Well done.\")\n",
    "else:\n",
    "    print(f\"Incorrect. The correct answer is {product}.\")\n"
   ]
  },
  {
   "cell_type": "code",
   "execution_count": 15,
   "id": "04041687-040b-48cd-a2ab-6b9692e49288",
   "metadata": {},
   "outputs": [],
   "source": [
    "#Exercise 3: Squares of Even/Odd Numbers\n",
    "#Create a Python script that prints the squares of all even or odd numbers within the range of 100 to 200. Choose either even or odd numbers and document your choice in the code."
   ]
  },
  {
   "cell_type": "code",
   "execution_count": 17,
   "id": "f968e1b2-b0d6-4d2b-bae3-d51d098344db",
   "metadata": {},
   "outputs": [
    {
     "name": "stdout",
     "output_type": "stream",
     "text": [
      "The square of the even number 100 is 10000\n",
      "The square of the odd number 101 is 10201\n",
      "The square of the even number 102 is 10404\n",
      "The square of the odd number 103 is 10609\n",
      "The square of the even number 104 is 10816\n",
      "The square of the odd number 105 is 11025\n",
      "The square of the even number 106 is 11236\n",
      "The square of the odd number 107 is 11449\n",
      "The square of the even number 108 is 11664\n",
      "The square of the odd number 109 is 11881\n",
      "The square of the even number 110 is 12100\n",
      "The square of the odd number 111 is 12321\n",
      "The square of the even number 112 is 12544\n",
      "The square of the odd number 113 is 12769\n",
      "The square of the even number 114 is 12996\n",
      "The square of the odd number 115 is 13225\n",
      "The square of the even number 116 is 13456\n",
      "The square of the odd number 117 is 13689\n",
      "The square of the even number 118 is 13924\n",
      "The square of the odd number 119 is 14161\n",
      "The square of the even number 120 is 14400\n",
      "The square of the odd number 121 is 14641\n",
      "The square of the even number 122 is 14884\n",
      "The square of the odd number 123 is 15129\n",
      "The square of the even number 124 is 15376\n",
      "The square of the odd number 125 is 15625\n",
      "The square of the even number 126 is 15876\n",
      "The square of the odd number 127 is 16129\n",
      "The square of the even number 128 is 16384\n",
      "The square of the odd number 129 is 16641\n",
      "The square of the even number 130 is 16900\n",
      "The square of the odd number 131 is 17161\n",
      "The square of the even number 132 is 17424\n",
      "The square of the odd number 133 is 17689\n",
      "The square of the even number 134 is 17956\n",
      "The square of the odd number 135 is 18225\n",
      "The square of the even number 136 is 18496\n",
      "The square of the odd number 137 is 18769\n",
      "The square of the even number 138 is 19044\n",
      "The square of the odd number 139 is 19321\n",
      "The square of the even number 140 is 19600\n",
      "The square of the odd number 141 is 19881\n",
      "The square of the even number 142 is 20164\n",
      "The square of the odd number 143 is 20449\n",
      "The square of the even number 144 is 20736\n",
      "The square of the odd number 145 is 21025\n",
      "The square of the even number 146 is 21316\n",
      "The square of the odd number 147 is 21609\n",
      "The square of the even number 148 is 21904\n",
      "The square of the odd number 149 is 22201\n",
      "The square of the even number 150 is 22500\n",
      "The square of the odd number 151 is 22801\n",
      "The square of the even number 152 is 23104\n",
      "The square of the odd number 153 is 23409\n",
      "The square of the even number 154 is 23716\n",
      "The square of the odd number 155 is 24025\n",
      "The square of the even number 156 is 24336\n",
      "The square of the odd number 157 is 24649\n",
      "The square of the even number 158 is 24964\n",
      "The square of the odd number 159 is 25281\n",
      "The square of the even number 160 is 25600\n",
      "The square of the odd number 161 is 25921\n",
      "The square of the even number 162 is 26244\n",
      "The square of the odd number 163 is 26569\n",
      "The square of the even number 164 is 26896\n",
      "The square of the odd number 165 is 27225\n",
      "The square of the even number 166 is 27556\n",
      "The square of the odd number 167 is 27889\n",
      "The square of the even number 168 is 28224\n",
      "The square of the odd number 169 is 28561\n",
      "The square of the even number 170 is 28900\n",
      "The square of the odd number 171 is 29241\n",
      "The square of the even number 172 is 29584\n",
      "The square of the odd number 173 is 29929\n",
      "The square of the even number 174 is 30276\n",
      "The square of the odd number 175 is 30625\n",
      "The square of the even number 176 is 30976\n",
      "The square of the odd number 177 is 31329\n",
      "The square of the even number 178 is 31684\n",
      "The square of the odd number 179 is 32041\n",
      "The square of the even number 180 is 32400\n",
      "The square of the odd number 181 is 32761\n",
      "The square of the even number 182 is 33124\n",
      "The square of the odd number 183 is 33489\n",
      "The square of the even number 184 is 33856\n",
      "The square of the odd number 185 is 34225\n",
      "The square of the even number 186 is 34596\n",
      "The square of the odd number 187 is 34969\n",
      "The square of the even number 188 is 35344\n",
      "The square of the odd number 189 is 35721\n",
      "The square of the even number 190 is 36100\n",
      "The square of the odd number 191 is 36481\n",
      "The square of the even number 192 is 36864\n",
      "The square of the odd number 193 is 37249\n",
      "The square of the even number 194 is 37636\n",
      "The square of the odd number 195 is 38025\n",
      "The square of the even number 196 is 38416\n",
      "The square of the odd number 197 is 38809\n",
      "The square of the even number 198 is 39204\n",
      "The square of the odd number 199 is 39601\n",
      "The square of the even number 200 is 40000\n"
     ]
    }
   ],
   "source": [
    "for num in range(100, 201):  # Range from 100 to 200 (inclusive)\n",
    "    square = num ** 2  # Calculate the square of the number\n",
    "    if num % 2 == 0:  # Check if the number is even\n",
    "        print(f\"The square of the even number {num} is {square}\")\n",
    "    else:\n",
    "        print(f\"The square of the odd number {num} is {square}\")\n"
   ]
  },
  {
   "cell_type": "code",
   "execution_count": 19,
   "id": "10c9f209-b72f-4cb6-942d-e9dbecee23d0",
   "metadata": {},
   "outputs": [],
   "source": [
    "#Exercise 4: Word counter\n",
    "#write a program to count the number of words in a given text.\n",
    "#example:\n",
    "#input_text = \"This is a sample text. This text will be used to demonstrate the word counter.\"\n",
    "#Expected output:\n",
    "#'This': 2 \n",
    "#'is': 1\n",
    "#'a': 1\n",
    "#'sample': 1\n",
    "#'text.': 1"
   ]
  },
  {
   "cell_type": "code",
   "execution_count": 27,
   "id": "01e14765-ab42-49df-a980-c1e71bb0a606",
   "metadata": {},
   "outputs": [
    {
     "name": "stdin",
     "output_type": "stream",
     "text": [
      "Enter Text: \"This is a sample text. This text will be used to demonstrate the word counter.\"\n"
     ]
    },
    {
     "name": "stdout",
     "output_type": "stream",
     "text": [
      "'\"This': 1\n",
      "'is': 1\n",
      "'a': 1\n",
      "'sample': 1\n",
      "'text.': 1\n",
      "'This': 1\n",
      "'text': 1\n",
      "'will': 1\n",
      "'be': 1\n",
      "'used': 1\n",
      "'to': 1\n",
      "'demonstrate': 1\n",
      "'the': 1\n",
      "'word': 1\n",
      "'counter.\"': 1\n"
     ]
    }
   ],
   "source": [
    "from collections import Counter\n",
    "\n",
    "# Input text\n",
    "input_text =  input(\"Enter Text:\")\n",
    "\n",
    "# Split the text into words\n",
    "words = input_text.split()\n",
    "\n",
    "# Count the occurrences of each word\n",
    "word_counts = Counter(words)\n",
    "\n",
    "# Print the word counts\n",
    "for word, count in word_counts.items():\n",
    "    print(f\"'{word}': {count}\")\n"
   ]
  },
  {
   "cell_type": "code",
   "execution_count": 29,
   "id": "44a02e7d-78d2-4f52-b0f9-4d27afc0486c",
   "metadata": {},
   "outputs": [],
   "source": [
    "#Exercise 5: Check for Palindrome\n",
    "#Write a Python function called is_palindrome that takes a string as input and returns True if the string is a palindrome, and False otherwise. A palindrome is a word, phrase, number, or other sequence of characters that reads the same forward and backward, ignoring spaces, punctuation, and capitalization.\n",
    "#Example:\n",
    "#Input: \"racecar\"\n",
    "#Expected Output: True"
   ]
  },
  {
   "cell_type": "code",
   "execution_count": 39,
   "id": "27a8f581-bc64-45a5-8dbe-21c315213c01",
   "metadata": {},
   "outputs": [
    {
     "name": "stdout",
     "output_type": "stream",
     "text": [
      "False\n"
     ]
    }
   ],
   "source": [
    "def is_palindrome(s):\n",
    "    # Removes non_alphanurmeric characters and convert to lowercase\n",
    "    s = ''.join(e for e in s if e.isalnum()).lower()\n",
    "    # Check if the string reads the same forward and backward\n",
    "    return s == s[::-1]\n",
    "\n",
    "# Example usage\n",
    "input_string = \"none\"\n",
    "print(is_palindrome(input_string))  # Output: True\n"
   ]
  }
 ],
 "metadata": {
  "kernelspec": {
   "display_name": "Python [conda env:base] *",
   "language": "python",
   "name": "conda-base-py"
  },
  "language_info": {
   "codemirror_mode": {
    "name": "ipython",
    "version": 3
   },
   "file_extension": ".py",
   "mimetype": "text/x-python",
   "name": "python",
   "nbconvert_exporter": "python",
   "pygments_lexer": "ipython3",
   "version": "3.12.7"
  }
 },
 "nbformat": 4,
 "nbformat_minor": 5
}
