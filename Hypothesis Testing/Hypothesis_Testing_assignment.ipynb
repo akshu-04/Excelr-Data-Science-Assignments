{
 "cells": [
  {
   "cell_type": "code",
   "execution_count": 1,
   "id": "a338f8d2-81b1-49b6-aaa8-45da01c11b40",
   "metadata": {},
   "outputs": [],
   "source": [
    "#Objective:\n",
    "#To investigate the restaurant owners' claim about the increase in weekly operating costs using hypothesis testing."
   ]
  },
  {
   "cell_type": "code",
   "execution_count": 3,
   "id": "45a549e4-595f-430b-a7ec-7591297a53db",
   "metadata": {},
   "outputs": [],
   "source": [
    "#Data Provided:\n",
    "#The theoretical weekly operating cost model: W = $1,000 + $5X\n",
    "#Sample of 25 restaurants with a mean weekly cost of Rs. 3,050\n",
    "#Number of units produced in a week (X) follows a normal distribution with a mean (μ) of 600 units and a standard deviation (σ) of 25 units"
   ]
  },
  {
   "cell_type": "code",
   "execution_count": 7,
   "id": "974c7b05-f0fc-4177-a91e-a5664a6e2d3a",
   "metadata": {},
   "outputs": [],
   "source": [
    "#Assignment Tasks:\n",
    "#State the Hypotheses statement:\n",
    "#Null Hypothesis: There is no change in the restaurent weekly operating costs\n",
    "#Alternative Hypothesis: There is change of increasing in the restaurent weekly operating costs"
   ]
  },
  {
   "cell_type": "code",
   "execution_count": 9,
   "id": "f177ed8a-82ad-47d4-8153-60a324111050",
   "metadata": {},
   "outputs": [],
   "source": [
    "#Calculate the Test Statistic:\n",
    "sample_mean = 3050 #Get the from given file\n",
    "x = 600\n",
    "population_mean = 1000+5*x\n",
    "std_deviation = 5*25\n",
    "sample_size = 25"
   ]
  },
  {
   "cell_type": "code",
   "execution_count": 17,
   "id": "2dc9299c-4178-4933-ae49-7211081e983e",
   "metadata": {},
   "outputs": [
    {
     "data": {
      "text/plain": [
       "-38.0"
      ]
     },
     "execution_count": 17,
     "metadata": {},
     "output_type": "execute_result"
    }
   ],
   "source": [
    "# Calculate the test statistic\n",
    "import math\n",
    "t_statistic = (sample_mean - population_mean) / (std_deviation / math.sqrt(sample_size))\n",
    "t_statistic"
   ]
  },
  {
   "cell_type": "code",
   "execution_count": 23,
   "id": "93198930-060c-47ef-a718-b6c58f7d3b9c",
   "metadata": {},
   "outputs": [
    {
     "data": {
      "text/plain": [
       "1.6448536269514722"
      ]
     },
     "execution_count": 23,
     "metadata": {},
     "output_type": "execute_result"
    }
   ],
   "source": [
    "#Determine the Critical Value:\n",
    "from scipy.stats import norm\n",
    "critical_value = norm.ppf(1-0.05) #Taken critical value\n",
    "critical_value"
   ]
  },
  {
   "cell_type": "code",
   "execution_count": 28,
   "id": "5f6035d2-7ee1-43f1-9376-cd703d92ba8d",
   "metadata": {},
   "outputs": [
    {
     "name": "stdout",
     "output_type": "stream",
     "text": [
      "Accept Null Hypothesis\n"
     ]
    }
   ],
   "source": [
    "#Make a Decision:\n",
    "if t_statistic > critical_value: #Checking we want to accept null hypothesis or not\n",
    "    print(\"Reject the Null Hypothesis\")\n",
    "else:\n",
    "    print(\"Accept Null Hypothesis\")"
   ]
  },
  {
   "cell_type": "code",
   "execution_count": 30,
   "id": "84571085-57fe-4304-83f5-e9c360a6f87e",
   "metadata": {},
   "outputs": [],
   "source": [
    "#Decision: The analysis indicates that there is insufficient evidence to support the claim that the weekly operating costs have increased beyond what the theoretical model suggests. Hence, the null hypothesis stands."
   ]
  },
  {
   "cell_type": "code",
   "execution_count": null,
   "id": "399119d1-c50f-4f09-983e-eb594b2b35bb",
   "metadata": {},
   "outputs": [],
   "source": []
  }
 ],
 "metadata": {
  "kernelspec": {
   "display_name": "Python [conda env:base] *",
   "language": "python",
   "name": "conda-base-py"
  },
  "language_info": {
   "codemirror_mode": {
    "name": "ipython",
    "version": 3
   },
   "file_extension": ".py",
   "mimetype": "text/x-python",
   "name": "python",
   "nbconvert_exporter": "python",
   "pygments_lexer": "ipython3",
   "version": "3.12.7"
  }
 },
 "nbformat": 4,
 "nbformat_minor": 5
}
